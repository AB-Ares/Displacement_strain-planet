{
 "cells": [
  {
   "cell_type": "markdown",
   "id": "b625c887",
   "metadata": {},
   "source": [
    "# Displacement_strain_planet"
   ]
  },
  {
   "cell_type": "markdown",
   "id": "d5ef5e52",
   "metadata": {},
   "source": [
    "Crustal thickness, displacement, stress and strain calculations on the sphere."
   ]
  },
  {
   "cell_type": "markdown",
   "id": "c86e8057",
   "metadata": {},
   "source": [
    "To get started, import the standard *matplotlib* library for graphics, *cmcrameri* for perceptually uniform color maps, *numpy* for mathematical extensions to Python, *pyshtools* (version >= 4.7) for spherical harmonic manipulations and plotting, and the 2 files with the functions of interest *Py_B1986_matrix_nmax* and *Py_Displacement_strain*. "
   ]
  },
  {
   "cell_type": "markdown",
   "id": "64990735",
   "metadata": {},
   "source": [
    "## Description"
   ]
  },
  {
   "cell_type": "markdown",
   "id": "fb0741d8",
   "metadata": {},
   "source": [
    "Displacement_strain_planet provides several functions and an example script for generating crustal thickness, displacement, gravity, lateral density variations, stress, and strain maps on a planet given a set of input constraints such as from observed gravity and topography data.\n",
    "\n",
    "These functions solve the [Banerdt et al. (1986)](https://agupubs.onlinelibrary.wiley.com/doi/abs/10.1029/JB091iB01p00403) system of equations under different assumptions. Various improvements have been made to the model including the possibility to account for finite-amplitude correction and filtering [(Wieczorek & Phillips, 1998)](https://agupubs.onlinelibrary.wiley.com/doi/abs/10.1029/97JE03136), lateral density variations at any arbitrary depth and within the surface or moho relief [(Wieczorek et al., 2013)](https://science.sciencemag.org/content/early/2012/12/04/science.1231530?versioned=true), and density difference between the surface topography and crust [(Broquet & Wieczorek, 2019)](https://agupubs.onlinelibrary.wiley.com/doi/abs/10.1029/2019JE005959). \n",
    "\n",
    "We note that some of these functions relies heavily on the [pyshtools](https://shtools.github.io/SHTOOLS/) package of [Wieczorek & Meschede (2018)](https://agupubs.onlinelibrary.wiley.com/doi/full/10.1029/2018GC007529)."
   ]
  },
  {
   "cell_type": "markdown",
   "id": "8b04f3df",
   "metadata": {},
   "source": [
    "## Methods"
   ]
  },
  {
   "cell_type": "markdown",
   "id": "d1c9497b",
   "metadata": {},
   "source": [
    "`Thin_shell_matrix` Solve the [Banerdt et al. (1986)](https://agupubs.onlinelibrary.wiley.com/doi/abs/10.1029/JB091iB01p00403) system of equations under the mass-sheet approximation and assuming that potential internal density variations are contained within a spherical shell. The system links 8 parameters expressed in spherical harmonics (degree $l$, order $m$): the topography ($H_{lm}$), geoid at the surface ($G_{lm}$), geoid at the moho depth ($Gc_{lm}$), net acting load on the lithosphere ($q_{lm}$), tangential load potential ($\\omega_{lm}$), flexure of the lithosphere ($w_{lm}$), crustal thickness variations ($\\delta c_{lm}$), and internal density variations ($\\delta \\rho_{lm}$). \n",
    "\n",
    "`Thin_shell_matrix_nmax` Solve the [Banerdt et al. (1986)](https://agupubs.onlinelibrary.wiley.com/doi/abs/10.1029/JB091iB01p00403) system of equations with finite-amplitude correction and accounting for the potential presence of density variations within the surface or moho reliefs.\n",
    "\n",
    "`DownContFilter` Compute the downward minimum-amplitude or -curvature filter of [Wieczorek & Phillips (1998)](https://agupubs.onlinelibrary.wiley.com/doi/abs/10.1029/97JE03136).\n",
    "\n",
    "`corr_nmax_drho` Calculate the gravitational potential exterior to relief referenced to a spherical interface (with or without laterally varying density) difference between the mass-sheet case and when using the finite amplitude algorithm of [Wieczorek & Phillips (1998)](https://agupubs.onlinelibrary.wiley.com/doi/abs/10.1029/97JE03136).\n",
    "\n",
    "`SH_deriv` Compute spherical harmonic derivatives (d'$\\theta$, d'$\\phi$, d'$\\theta,\\phi$, d''$\\theta$, d''$\\phi$, d''$\\theta,\\phi$, where $\\theta$ is the colatitude and $\\phi$ is the longitude) on the fly.\n",
    "\n",
    "`SH_deriv_theta_phi` Compute and store spherical harmonic derivatives (d'$\\theta$, d'$\\phi$, d'$\\theta,\\phi$, d''$\\theta$, d''$\\phi$, d''$\\theta,\\phi$, where $\\theta$ is the colatitude and $\\phi$ is the longitude).\n",
    "\n",
    "`Displacement_strains` Calculate the [Banerdt et al. (1986)](https://agupubs.onlinelibrary.wiley.com/doi/abs/10.1029/JB091iB01p00403) equations to determine strains from displacements with a correction to the $\\theta,\\phi$ term.\n",
    "\n",
    "`Principal_strain_angle` Calculate principal strains and angles.\n",
    "\n",
    "`Plt_faults` Plot the [Knampeyer et al. (2006)](https://agupubs.onlinelibrary.wiley.com/doi/full/10.1029/2006JE002708) dataset of extensional and compressional tectonic features on Mars."
   ]
  },
  {
   "cell_type": "markdown",
   "id": "7c4e43ed",
   "metadata": {},
   "source": [
    "## Example script"
   ]
  },
  {
   "cell_type": "markdown",
   "id": "821834ad",
   "metadata": {},
   "source": [
    "`Run_demo` A jupyter notebook that contains example scripts to determine flexure, moho relief, and strains under different assumptions, including Airy or Pratt isostasy."
   ]
  },
  {
   "cell_type": "markdown",
   "id": "932be4a5",
   "metadata": {},
   "source": [
    "## How to install and run Displacement_strain_planet"
   ]
  },
  {
   "cell_type": "markdown",
   "id": "68adc324",
   "metadata": {},
   "source": [
    "Download the ctplanet repository and install using pip (or pip3 depending on your installation).\n",
    "```bash\n",
    "    git clone https://github.com/AB-Ares/Displacement_strain-planet.git\n",
    "    pip install .\n",
    "```"
   ]
  },
  {
   "cell_type": "markdown",
   "id": "a102698e",
   "metadata": {},
   "source": [
    "## To run the example script"
   ]
  },
  {
   "cell_type": "markdown",
   "id": "aedf8f4c",
   "metadata": {},
   "source": [
    "```bash\n",
    "    cd examples\n",
    "    jupyter notebook Run_demo.ipynb\n",
    "```"
   ]
  },
  {
   "cell_type": "markdown",
   "id": "6c1682eb",
   "metadata": {},
   "source": [
    "## Author"
   ]
  },
  {
   "cell_type": "markdown",
   "id": "ab828f53",
   "metadata": {},
   "source": [
    "[Adrien Broquet](https://www.oca.eu/fr/adrien-broquet) (adrien.broquet@oca.eu)"
   ]
  }
 ],
 "metadata": {
  "kernelspec": {
   "display_name": "Python 3",
   "language": "python",
   "name": "python3"
  },
  "language_info": {
   "codemirror_mode": {
    "name": "ipython",
    "version": 3
   },
   "file_extension": ".py",
   "mimetype": "text/x-python",
   "name": "python",
   "nbconvert_exporter": "python",
   "pygments_lexer": "ipython3",
   "version": "3.9.4"
  }
 },
 "nbformat": 4,
 "nbformat_minor": 5
}
